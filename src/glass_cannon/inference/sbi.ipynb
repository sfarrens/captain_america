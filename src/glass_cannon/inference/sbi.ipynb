{
 "cells": [
  {
   "cell_type": "code",
   "execution_count": null,
   "id": "6070c6a8-3240-432e-81fb-d289c741eebc",
   "metadata": {},
   "outputs": [],
   "source": [
    "import numpy as np\n",
    "import emcee\n",
    "from getdist import plots, MCSamples\n",
    "import matplotlib as mpl\n",
    "import matplotlib.pyplot as plt\n",
    "from scipy.stats import multivariate_normal, norm\n",
    "from scipy.linalg import eigh\n",
    "import harmonic as hm\n",
    "from nautilus import Prior, Sampler\n",
    "from sbi.inference import NLE\n",
    "from sbi.inference.posteriors.posterior_parameters import VIPosteriorParameters\n",
    "import torch"
   ]
  }
 ],
 "metadata": {
  "kernelspec": {
   "display_name": "astrodat",
   "language": "python",
   "name": "astrodat"
  },
  "language_info": {
   "codemirror_mode": {
    "name": "ipython",
    "version": 3
   },
   "file_extension": ".py",
   "mimetype": "text/x-python",
   "name": "python",
   "nbconvert_exporter": "python",
   "pygments_lexer": "ipython3",
   "version": "3.13.7"
  }
 },
 "nbformat": 4,
 "nbformat_minor": 5
}
