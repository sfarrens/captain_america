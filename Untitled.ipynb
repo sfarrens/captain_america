{
 "cells": [
  {
   "cell_type": "code",
   "execution_count": 11,
   "id": "dc19c61e-8b77-4505-95bc-4848816c6fbd",
   "metadata": {},
   "outputs": [],
   "source": [
    "import pypickle\n",
    "\n",
    "# use the CAMB cosmology that generated the matter power spectra\n",
    "import camb\n",
    "from cosmology.compat.camb import Cosmology"
   ]
  },
  {
   "cell_type": "code",
   "execution_count": 15,
   "id": "d159a996-acca-433c-ab9d-7e3c2360ceae",
   "metadata": {},
   "outputs": [],
   "source": [
    "h = 0.7\n",
    "Oc = 0.25\n",
    "Ob = 0.05\n",
    "\n",
    "# basic parameters of the simulation\n",
    "nside = lmax = 128\n",
    "\n",
    "# set up CAMB parameters for matter angular power spectrum\n",
    "pars = camb.set_params(\n",
    "    H0=100 * h,\n",
    "    omch2=Oc * h**2,\n",
    "    ombh2=Ob * h**2,\n",
    "    NonLinear=camb.model.NonLinear_both,\n",
    ")\n",
    "results = camb.get_background(pars)\n",
    "\n",
    "# get the cosmology from CAMB\n",
    "#cosmo = Cosmology(results)"
   ]
  },
  {
   "cell_type": "code",
   "execution_count": 16,
   "id": "fc2ab92d-c932-4954-8aa6-6c7064733c2a",
   "metadata": {},
   "outputs": [
    {
     "name": "stderr",
     "output_type": "stream",
     "text": [
      "[09-09-2025 16:07:29] [pypickle.pypickle] [ERROR] [FAILED]: pickle file is not saved: [./test_glass_cannon/test_cosmo.pkl]. Error: Cannot save CAMB result objects\n"
     ]
    }
   ],
   "source": [
    "status = pypickle.save('./test_glass_cannon/test_cosmo.pkl', results)"
   ]
  },
  {
   "cell_type": "code",
   "execution_count": null,
   "id": "18afd8f7-3f8a-4d03-9df8-619ae52d22f6",
   "metadata": {},
   "outputs": [],
   "source": []
  }
 ],
 "metadata": {
  "kernelspec": {
   "display_name": "astrodat",
   "language": "python",
   "name": "astrodat"
  },
  "language_info": {
   "codemirror_mode": {
    "name": "ipython",
    "version": 3
   },
   "file_extension": ".py",
   "mimetype": "text/x-python",
   "name": "python",
   "nbconvert_exporter": "python",
   "pygments_lexer": "ipython3",
   "version": "3.13.7"
  }
 },
 "nbformat": 4,
 "nbformat_minor": 5
}
